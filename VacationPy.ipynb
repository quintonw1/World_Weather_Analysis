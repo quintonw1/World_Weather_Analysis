{
 "cells": [
  {
   "cell_type": "code",
   "execution_count": 1,
   "metadata": {},
   "outputs": [],
   "source": [
    "%matplotlib inline\n",
    "\n"
   ]
  },
  {
   "cell_type": "code",
   "execution_count": 2,
   "metadata": {},
   "outputs": [],
   "source": [
    "# Import the Dependicies\n",
    "import pandas as pd\n",
    "import requests\n",
    "import gmaps \n",
    "# import the API key \n",
    "from config import g_key"
   ]
  },
  {
   "cell_type": "code",
   "execution_count": 3,
   "metadata": {},
   "outputs": [
    {
     "data": {
      "text/html": [
       "<div>\n",
       "<style scoped>\n",
       "    .dataframe tbody tr th:only-of-type {\n",
       "        vertical-align: middle;\n",
       "    }\n",
       "\n",
       "    .dataframe tbody tr th {\n",
       "        vertical-align: top;\n",
       "    }\n",
       "\n",
       "    .dataframe thead th {\n",
       "        text-align: right;\n",
       "    }\n",
       "</style>\n",
       "<table border=\"1\" class=\"dataframe\">\n",
       "  <thead>\n",
       "    <tr style=\"text-align: right;\">\n",
       "      <th></th>\n",
       "      <th>City_ID</th>\n",
       "      <th>City</th>\n",
       "      <th>Country</th>\n",
       "      <th>Date</th>\n",
       "      <th>Lat</th>\n",
       "      <th>Lng</th>\n",
       "      <th>Max Temp</th>\n",
       "      <th>Humidity</th>\n",
       "      <th>Cloudiness</th>\n",
       "      <th>Wind Speed</th>\n",
       "    </tr>\n",
       "  </thead>\n",
       "  <tbody>\n",
       "    <tr>\n",
       "      <th>0</th>\n",
       "      <td>0</td>\n",
       "      <td>Kahului</td>\n",
       "      <td>US</td>\n",
       "      <td>2020-05-27 20:31:16</td>\n",
       "      <td>20.89</td>\n",
       "      <td>-156.47</td>\n",
       "      <td>87.80</td>\n",
       "      <td>48</td>\n",
       "      <td>40</td>\n",
       "      <td>8.05</td>\n",
       "    </tr>\n",
       "    <tr>\n",
       "      <th>1</th>\n",
       "      <td>1</td>\n",
       "      <td>Mataura</td>\n",
       "      <td>NZ</td>\n",
       "      <td>2020-05-27 20:32:19</td>\n",
       "      <td>-46.19</td>\n",
       "      <td>168.86</td>\n",
       "      <td>37.76</td>\n",
       "      <td>86</td>\n",
       "      <td>0</td>\n",
       "      <td>1.88</td>\n",
       "    </tr>\n",
       "    <tr>\n",
       "      <th>2</th>\n",
       "      <td>2</td>\n",
       "      <td>Pevek</td>\n",
       "      <td>RU</td>\n",
       "      <td>2020-05-27 20:32:19</td>\n",
       "      <td>69.70</td>\n",
       "      <td>170.31</td>\n",
       "      <td>37.96</td>\n",
       "      <td>76</td>\n",
       "      <td>100</td>\n",
       "      <td>15.86</td>\n",
       "    </tr>\n",
       "    <tr>\n",
       "      <th>3</th>\n",
       "      <td>3</td>\n",
       "      <td>Gardone Val Trompia</td>\n",
       "      <td>IT</td>\n",
       "      <td>2020-05-27 20:32:20</td>\n",
       "      <td>45.69</td>\n",
       "      <td>10.19</td>\n",
       "      <td>69.80</td>\n",
       "      <td>49</td>\n",
       "      <td>5</td>\n",
       "      <td>2.24</td>\n",
       "    </tr>\n",
       "    <tr>\n",
       "      <th>4</th>\n",
       "      <td>4</td>\n",
       "      <td>Bredasdorp</td>\n",
       "      <td>ZA</td>\n",
       "      <td>2020-05-27 20:32:20</td>\n",
       "      <td>-34.53</td>\n",
       "      <td>20.04</td>\n",
       "      <td>55.40</td>\n",
       "      <td>58</td>\n",
       "      <td>0</td>\n",
       "      <td>6.93</td>\n",
       "    </tr>\n",
       "  </tbody>\n",
       "</table>\n",
       "</div>"
      ],
      "text/plain": [
       "   City_ID                 City Country                 Date    Lat     Lng  \\\n",
       "0        0              Kahului      US  2020-05-27 20:31:16  20.89 -156.47   \n",
       "1        1              Mataura      NZ  2020-05-27 20:32:19 -46.19  168.86   \n",
       "2        2                Pevek      RU  2020-05-27 20:32:19  69.70  170.31   \n",
       "3        3  Gardone Val Trompia      IT  2020-05-27 20:32:20  45.69   10.19   \n",
       "4        4           Bredasdorp      ZA  2020-05-27 20:32:20 -34.53   20.04   \n",
       "\n",
       "   Max Temp  Humidity  Cloudiness  Wind Speed  \n",
       "0     87.80        48          40        8.05  \n",
       "1     37.76        86           0        1.88  \n",
       "2     37.96        76         100       15.86  \n",
       "3     69.80        49           5        2.24  \n",
       "4     55.40        58           0        6.93  "
      ]
     },
     "execution_count": 3,
     "metadata": {},
     "output_type": "execute_result"
    }
   ],
   "source": [
    "# Import excel file \"cities.csv\"\n",
    "\n",
    "city_data_df = pd.read_csv(\"Data/cities.csv\")\n",
    "city_data_df.head()\n",
    "\n",
    "\n"
   ]
  },
  {
   "cell_type": "code",
   "execution_count": 4,
   "metadata": {},
   "outputs": [
    {
     "data": {
      "text/plain": [
       "City_ID         int64\n",
       "City           object\n",
       "Country        object\n",
       "Date           object\n",
       "Lat           float64\n",
       "Lng           float64\n",
       "Max Temp      float64\n",
       "Humidity        int64\n",
       "Cloudiness      int64\n",
       "Wind Speed    float64\n",
       "dtype: object"
      ]
     },
     "execution_count": 4,
     "metadata": {},
     "output_type": "execute_result"
    }
   ],
   "source": [
    "#Checking data types in DataFrame \n",
    "city_data_df.dtypes"
   ]
  },
  {
   "cell_type": "code",
   "execution_count": 5,
   "metadata": {},
   "outputs": [],
   "source": [
    "# Configure gmaps to use your Google API key. \n",
    "gmaps.configure(api_key=g_key)"
   ]
  },
  {
   "cell_type": "code",
   "execution_count": 6,
   "metadata": {},
   "outputs": [],
   "source": [
    "## 1. Assign the locations to an array of latitude and longitude pairs.\n",
    "#locations = [latitude, longitude]\n",
    "## 2. Assign the weights variable to some values.\n",
    "#temperatures = # an array of equal length of the locations array.\n",
    "## 3. Assign the figure variable to the gmaps.figure() attribute.\n",
    "#fig = gmaps.figure()\n",
    "## 4. Assign the heatmap_layer variable to the heatmap_layer attribute and add in the locations.\n",
    "#heatmap_layer = gmaps.heatmap_layer(locations, weights=temperatures)\n",
    "\n",
    "## 5. Add the heatmap layer.\n",
    "#fig.add_layer(heatmap_layer)\n",
    "## 6. Call the figure to plot the data.\n",
    "#fig\n"
   ]
  },
  {
   "cell_type": "code",
   "execution_count": 7,
   "metadata": {},
   "outputs": [
    {
     "data": {
      "application/vnd.jupyter.widget-view+json": {
       "model_id": "a6588458b3bb43218b8b3bd9276a1681",
       "version_major": 2,
       "version_minor": 0
      },
      "text/plain": [
       "Figure(layout=FigureLayout(height='420px'))"
      ]
     },
     "metadata": {},
     "output_type": "display_data"
    }
   ],
   "source": [
    "# Heatmap of Temperature \n",
    "# Get the latitude and longtitude. \n",
    "locations = city_data_df[[\"Lat\", \"Lng\"]]\n",
    "# Get Maximum temperature \n",
    "max_temp = city_data_df[\"Max Temp\"]\n",
    "# Assign the figure variable \n",
    "fig = gmaps.figure(center=(30.0,31.0), zoom_level = 1.25)\n",
    "# Assign the heatmap_layer variable and add it to the locations\n",
    "heatmap_layer = gmaps.heatmap_layer(locations, weights = [max(temp,0) for temp in max_temp],\n",
    "                                   dissipating = False, max_intensity = 300, point_radius =4)\n",
    "#Add the heatmap layer\n",
    "fig.add_layer(heatmap_layer)\n",
    "# Call the figure to plot the data\n",
    "fig"
   ]
  },
  {
   "cell_type": "code",
   "execution_count": 8,
   "metadata": {},
   "outputs": [
    {
     "data": {
      "application/vnd.jupyter.widget-view+json": {
       "model_id": "4c138c13e43e47a1b980c79ac5af197c",
       "version_major": 2,
       "version_minor": 0
      },
      "text/plain": [
       "Figure(layout=FigureLayout(height='420px'))"
      ]
     },
     "metadata": {},
     "output_type": "display_data"
    }
   ],
   "source": [
    "# Heatmap of percent humidity \n",
    "locations = city_data_df[[\"Lat\", \"Lng\"]]\n",
    "humidity = city_data_df[\"Humidity\"]\n",
    "fig = gmaps.figure(center=(30,31), zoom_level = 1.25)\n",
    "heat_layer = gmaps.heatmap_layer(locations, weights = humidity, dissipating = False, max_intensity = 300, point_radius = 4)\n",
    "\n",
    "fig.add_layer(heat_layer)\n",
    "fig"
   ]
  },
  {
   "cell_type": "code",
   "execution_count": 9,
   "metadata": {},
   "outputs": [
    {
     "data": {
      "application/vnd.jupyter.widget-view+json": {
       "model_id": "d63b4e60717243d496f034adb2e70a9a",
       "version_major": 2,
       "version_minor": 0
      },
      "text/plain": [
       "Figure(layout=FigureLayout(height='420px'))"
      ]
     },
     "metadata": {},
     "output_type": "display_data"
    }
   ],
   "source": [
    "# Heatmap of percent Cloudiness \n",
    "locations = city_data_df[[\"Lat\", \"Lng\"]]\n",
    "clouds = city_data_df[\"Cloudiness\"]\n",
    "fig = gmaps.figure(center=(30,31), zoom_level = 1.25)\n",
    "heat_layer = gmaps.heatmap_layer(locations, weights = clouds, dissipating = False, max_intensity = 300, point_radius = 4)\n",
    "\n",
    "fig.add_layer(heat_layer)\n",
    "fig"
   ]
  },
  {
   "cell_type": "code",
   "execution_count": 10,
   "metadata": {},
   "outputs": [
    {
     "data": {
      "application/vnd.jupyter.widget-view+json": {
       "model_id": "a108d7c299264ad99e2153f28c559bb6",
       "version_major": 2,
       "version_minor": 0
      },
      "text/plain": [
       "Figure(layout=FigureLayout(height='420px'))"
      ]
     },
     "metadata": {},
     "output_type": "display_data"
    }
   ],
   "source": [
    "# Heatmap of percent Wind Speed \n",
    "locations = city_data_df[[\"Lat\", \"Lng\"]]\n",
    "wind = city_data_df[\"Wind Speed\"]\n",
    "fig = gmaps.figure(center=(30,31), zoom_level = 1.25)\n",
    "heat_layer = gmaps.heatmap_layer(locations, weights = wind, dissipating = False, max_intensity = 300, point_radius = 4)\n",
    "\n",
    "fig.add_layer(heat_layer)\n",
    "fig"
   ]
  },
  {
   "cell_type": "code",
   "execution_count": 11,
   "metadata": {},
   "outputs": [
    {
     "name": "stdout",
     "output_type": "stream",
     "text": [
      "What is the minimum temperature you would like for your trip? 70\n",
      "What is the maximum temperature you would like for your trip? 90\n"
     ]
    }
   ],
   "source": [
    "# Ask the customer to add a minimum and maximum temperature value. \n",
    "\n",
    "min_temp = float(input(\"What is the minimum temperature you would like for your trip? \"))\n",
    "max_temp = float(input(\"What is the maximum temperature you would like for your trip? \"))"
   ]
  },
  {
   "cell_type": "code",
   "execution_count": 12,
   "metadata": {},
   "outputs": [
    {
     "data": {
      "text/html": [
       "<div>\n",
       "<style scoped>\n",
       "    .dataframe tbody tr th:only-of-type {\n",
       "        vertical-align: middle;\n",
       "    }\n",
       "\n",
       "    .dataframe tbody tr th {\n",
       "        vertical-align: top;\n",
       "    }\n",
       "\n",
       "    .dataframe thead th {\n",
       "        text-align: right;\n",
       "    }\n",
       "</style>\n",
       "<table border=\"1\" class=\"dataframe\">\n",
       "  <thead>\n",
       "    <tr style=\"text-align: right;\">\n",
       "      <th></th>\n",
       "      <th>City_ID</th>\n",
       "      <th>City</th>\n",
       "      <th>Country</th>\n",
       "      <th>Date</th>\n",
       "      <th>Lat</th>\n",
       "      <th>Lng</th>\n",
       "      <th>Max Temp</th>\n",
       "      <th>Humidity</th>\n",
       "      <th>Cloudiness</th>\n",
       "      <th>Wind Speed</th>\n",
       "    </tr>\n",
       "  </thead>\n",
       "  <tbody>\n",
       "    <tr>\n",
       "      <th>0</th>\n",
       "      <td>0</td>\n",
       "      <td>Kahului</td>\n",
       "      <td>US</td>\n",
       "      <td>2020-05-27 20:31:16</td>\n",
       "      <td>20.89</td>\n",
       "      <td>-156.47</td>\n",
       "      <td>87.80</td>\n",
       "      <td>48</td>\n",
       "      <td>40</td>\n",
       "      <td>8.05</td>\n",
       "    </tr>\n",
       "    <tr>\n",
       "      <th>12</th>\n",
       "      <td>12</td>\n",
       "      <td>Nueve De Julio</td>\n",
       "      <td>AR</td>\n",
       "      <td>2020-05-27 20:32:23</td>\n",
       "      <td>-35.44</td>\n",
       "      <td>-60.88</td>\n",
       "      <td>70.00</td>\n",
       "      <td>47</td>\n",
       "      <td>0</td>\n",
       "      <td>4.00</td>\n",
       "    </tr>\n",
       "    <tr>\n",
       "      <th>15</th>\n",
       "      <td>15</td>\n",
       "      <td>Zharkent</td>\n",
       "      <td>KZ</td>\n",
       "      <td>2020-05-27 20:32:23</td>\n",
       "      <td>44.16</td>\n",
       "      <td>80.00</td>\n",
       "      <td>72.91</td>\n",
       "      <td>28</td>\n",
       "      <td>0</td>\n",
       "      <td>7.07</td>\n",
       "    </tr>\n",
       "    <tr>\n",
       "      <th>17</th>\n",
       "      <td>17</td>\n",
       "      <td>Isiro</td>\n",
       "      <td>CD</td>\n",
       "      <td>2020-05-27 20:29:05</td>\n",
       "      <td>2.77</td>\n",
       "      <td>27.62</td>\n",
       "      <td>73.81</td>\n",
       "      <td>81</td>\n",
       "      <td>99</td>\n",
       "      <td>1.99</td>\n",
       "    </tr>\n",
       "    <tr>\n",
       "      <th>19</th>\n",
       "      <td>19</td>\n",
       "      <td>Rikitea</td>\n",
       "      <td>PF</td>\n",
       "      <td>2020-05-27 20:32:25</td>\n",
       "      <td>-23.12</td>\n",
       "      <td>-134.97</td>\n",
       "      <td>76.26</td>\n",
       "      <td>82</td>\n",
       "      <td>23</td>\n",
       "      <td>10.87</td>\n",
       "    </tr>\n",
       "    <tr>\n",
       "      <th>20</th>\n",
       "      <td>20</td>\n",
       "      <td>Grand Forks</td>\n",
       "      <td>US</td>\n",
       "      <td>2020-05-27 20:28:45</td>\n",
       "      <td>47.93</td>\n",
       "      <td>-97.03</td>\n",
       "      <td>80.60</td>\n",
       "      <td>26</td>\n",
       "      <td>75</td>\n",
       "      <td>21.92</td>\n",
       "    </tr>\n",
       "    <tr>\n",
       "      <th>21</th>\n",
       "      <td>21</td>\n",
       "      <td>Rafai</td>\n",
       "      <td>CF</td>\n",
       "      <td>2020-05-27 20:32:25</td>\n",
       "      <td>4.95</td>\n",
       "      <td>23.92</td>\n",
       "      <td>71.82</td>\n",
       "      <td>88</td>\n",
       "      <td>97</td>\n",
       "      <td>2.35</td>\n",
       "    </tr>\n",
       "    <tr>\n",
       "      <th>23</th>\n",
       "      <td>23</td>\n",
       "      <td>Jamestown</td>\n",
       "      <td>US</td>\n",
       "      <td>2020-05-27 20:31:18</td>\n",
       "      <td>42.10</td>\n",
       "      <td>-79.24</td>\n",
       "      <td>82.00</td>\n",
       "      <td>47</td>\n",
       "      <td>1</td>\n",
       "      <td>12.75</td>\n",
       "    </tr>\n",
       "    <tr>\n",
       "      <th>24</th>\n",
       "      <td>24</td>\n",
       "      <td>Kapaa</td>\n",
       "      <td>US</td>\n",
       "      <td>2020-05-27 20:32:26</td>\n",
       "      <td>22.08</td>\n",
       "      <td>-159.32</td>\n",
       "      <td>80.60</td>\n",
       "      <td>65</td>\n",
       "      <td>20</td>\n",
       "      <td>11.41</td>\n",
       "    </tr>\n",
       "    <tr>\n",
       "      <th>27</th>\n",
       "      <td>27</td>\n",
       "      <td>Faridpur</td>\n",
       "      <td>BD</td>\n",
       "      <td>2020-05-27 20:32:27</td>\n",
       "      <td>23.60</td>\n",
       "      <td>89.83</td>\n",
       "      <td>75.20</td>\n",
       "      <td>88</td>\n",
       "      <td>90</td>\n",
       "      <td>3.36</td>\n",
       "    </tr>\n",
       "  </tbody>\n",
       "</table>\n",
       "</div>"
      ],
      "text/plain": [
       "    City_ID            City Country                 Date    Lat     Lng  \\\n",
       "0         0         Kahului      US  2020-05-27 20:31:16  20.89 -156.47   \n",
       "12       12  Nueve De Julio      AR  2020-05-27 20:32:23 -35.44  -60.88   \n",
       "15       15        Zharkent      KZ  2020-05-27 20:32:23  44.16   80.00   \n",
       "17       17           Isiro      CD  2020-05-27 20:29:05   2.77   27.62   \n",
       "19       19         Rikitea      PF  2020-05-27 20:32:25 -23.12 -134.97   \n",
       "20       20     Grand Forks      US  2020-05-27 20:28:45  47.93  -97.03   \n",
       "21       21           Rafai      CF  2020-05-27 20:32:25   4.95   23.92   \n",
       "23       23       Jamestown      US  2020-05-27 20:31:18  42.10  -79.24   \n",
       "24       24           Kapaa      US  2020-05-27 20:32:26  22.08 -159.32   \n",
       "27       27        Faridpur      BD  2020-05-27 20:32:27  23.60   89.83   \n",
       "\n",
       "    Max Temp  Humidity  Cloudiness  Wind Speed  \n",
       "0      87.80        48          40        8.05  \n",
       "12     70.00        47           0        4.00  \n",
       "15     72.91        28           0        7.07  \n",
       "17     73.81        81          99        1.99  \n",
       "19     76.26        82          23       10.87  \n",
       "20     80.60        26          75       21.92  \n",
       "21     71.82        88          97        2.35  \n",
       "23     82.00        47           1       12.75  \n",
       "24     80.60        65          20       11.41  \n",
       "27     75.20        88          90        3.36  "
      ]
     },
     "execution_count": 12,
     "metadata": {},
     "output_type": "execute_result"
    }
   ],
   "source": [
    "preferred_cities_df = city_data_df.loc[(city_data_df[\"Max Temp\"] <= max_temp) & \n",
    "                                      (city_data_df[\"Max Temp\"] >= min_temp)]\n",
    "preferred_cities_df.head(10)\n"
   ]
  },
  {
   "cell_type": "code",
   "execution_count": 13,
   "metadata": {},
   "outputs": [
    {
     "data": {
      "text/plain": [
       "City_ID       244\n",
       "City          244\n",
       "Country       244\n",
       "Date          244\n",
       "Lat           244\n",
       "Lng           244\n",
       "Max Temp      244\n",
       "Humidity      244\n",
       "Cloudiness    244\n",
       "Wind Speed    244\n",
       "dtype: int64"
      ]
     },
     "execution_count": 13,
     "metadata": {},
     "output_type": "execute_result"
    }
   ],
   "source": [
    "# Check if there are any null values \n",
    "preferred_cities_df.count()"
   ]
  },
  {
   "cell_type": "code",
   "execution_count": 14,
   "metadata": {},
   "outputs": [
    {
     "data": {
      "text/html": [
       "<div>\n",
       "<style scoped>\n",
       "    .dataframe tbody tr th:only-of-type {\n",
       "        vertical-align: middle;\n",
       "    }\n",
       "\n",
       "    .dataframe tbody tr th {\n",
       "        vertical-align: top;\n",
       "    }\n",
       "\n",
       "    .dataframe thead th {\n",
       "        text-align: right;\n",
       "    }\n",
       "</style>\n",
       "<table border=\"1\" class=\"dataframe\">\n",
       "  <thead>\n",
       "    <tr style=\"text-align: right;\">\n",
       "      <th></th>\n",
       "      <th>index</th>\n",
       "      <th>City</th>\n",
       "      <th>Country</th>\n",
       "      <th>Max Temp</th>\n",
       "      <th>Lat</th>\n",
       "      <th>Lng</th>\n",
       "      <th>Hotel Name</th>\n",
       "    </tr>\n",
       "  </thead>\n",
       "  <tbody>\n",
       "    <tr>\n",
       "      <th>0</th>\n",
       "      <td>0</td>\n",
       "      <td>Kahului</td>\n",
       "      <td>US</td>\n",
       "      <td>87.80</td>\n",
       "      <td>20.89</td>\n",
       "      <td>-156.47</td>\n",
       "      <td></td>\n",
       "    </tr>\n",
       "    <tr>\n",
       "      <th>1</th>\n",
       "      <td>12</td>\n",
       "      <td>Nueve De Julio</td>\n",
       "      <td>AR</td>\n",
       "      <td>70.00</td>\n",
       "      <td>-35.44</td>\n",
       "      <td>-60.88</td>\n",
       "      <td></td>\n",
       "    </tr>\n",
       "    <tr>\n",
       "      <th>2</th>\n",
       "      <td>15</td>\n",
       "      <td>Zharkent</td>\n",
       "      <td>KZ</td>\n",
       "      <td>72.91</td>\n",
       "      <td>44.16</td>\n",
       "      <td>80.00</td>\n",
       "      <td></td>\n",
       "    </tr>\n",
       "    <tr>\n",
       "      <th>3</th>\n",
       "      <td>17</td>\n",
       "      <td>Isiro</td>\n",
       "      <td>CD</td>\n",
       "      <td>73.81</td>\n",
       "      <td>2.77</td>\n",
       "      <td>27.62</td>\n",
       "      <td></td>\n",
       "    </tr>\n",
       "    <tr>\n",
       "      <th>4</th>\n",
       "      <td>19</td>\n",
       "      <td>Rikitea</td>\n",
       "      <td>PF</td>\n",
       "      <td>76.26</td>\n",
       "      <td>-23.12</td>\n",
       "      <td>-134.97</td>\n",
       "      <td></td>\n",
       "    </tr>\n",
       "    <tr>\n",
       "      <th>5</th>\n",
       "      <td>20</td>\n",
       "      <td>Grand Forks</td>\n",
       "      <td>US</td>\n",
       "      <td>80.60</td>\n",
       "      <td>47.93</td>\n",
       "      <td>-97.03</td>\n",
       "      <td></td>\n",
       "    </tr>\n",
       "    <tr>\n",
       "      <th>6</th>\n",
       "      <td>21</td>\n",
       "      <td>Rafai</td>\n",
       "      <td>CF</td>\n",
       "      <td>71.82</td>\n",
       "      <td>4.95</td>\n",
       "      <td>23.92</td>\n",
       "      <td></td>\n",
       "    </tr>\n",
       "    <tr>\n",
       "      <th>7</th>\n",
       "      <td>23</td>\n",
       "      <td>Jamestown</td>\n",
       "      <td>US</td>\n",
       "      <td>82.00</td>\n",
       "      <td>42.10</td>\n",
       "      <td>-79.24</td>\n",
       "      <td></td>\n",
       "    </tr>\n",
       "    <tr>\n",
       "      <th>8</th>\n",
       "      <td>24</td>\n",
       "      <td>Kapaa</td>\n",
       "      <td>US</td>\n",
       "      <td>80.60</td>\n",
       "      <td>22.08</td>\n",
       "      <td>-159.32</td>\n",
       "      <td></td>\n",
       "    </tr>\n",
       "    <tr>\n",
       "      <th>9</th>\n",
       "      <td>27</td>\n",
       "      <td>Faridpur</td>\n",
       "      <td>BD</td>\n",
       "      <td>75.20</td>\n",
       "      <td>23.60</td>\n",
       "      <td>89.83</td>\n",
       "      <td></td>\n",
       "    </tr>\n",
       "  </tbody>\n",
       "</table>\n",
       "</div>"
      ],
      "text/plain": [
       "   index            City Country  Max Temp    Lat     Lng Hotel Name\n",
       "0      0         Kahului      US     87.80  20.89 -156.47           \n",
       "1     12  Nueve De Julio      AR     70.00 -35.44  -60.88           \n",
       "2     15        Zharkent      KZ     72.91  44.16   80.00           \n",
       "3     17           Isiro      CD     73.81   2.77   27.62           \n",
       "4     19         Rikitea      PF     76.26 -23.12 -134.97           \n",
       "5     20     Grand Forks      US     80.60  47.93  -97.03           \n",
       "6     21           Rafai      CF     71.82   4.95   23.92           \n",
       "7     23       Jamestown      US     82.00  42.10  -79.24           \n",
       "8     24           Kapaa      US     80.60  22.08 -159.32           \n",
       "9     27        Faridpur      BD     75.20  23.60   89.83           "
      ]
     },
     "execution_count": 14,
     "metadata": {},
     "output_type": "execute_result"
    }
   ],
   "source": [
    "# Create DataFrame called hotel_df to store hotel names along with city, country, max temp, and coordinates.\n",
    "hotel_df = preferred_cities_df[[\"City\", \"Country\", \"Max Temp\", \"Lat\",\n",
    "                               \"Lng\"]].copy()\n",
    "hotel_df = hotel_df.reset_index()\n",
    "\n",
    "hotel_df[\"Hotel Name\"] = \"\"\n",
    "hotel_df.head(10)"
   ]
  },
  {
   "cell_type": "code",
   "execution_count": null,
   "metadata": {},
   "outputs": [
    {
     "name": "stdout",
     "output_type": "stream",
     "text": [
      "Hotel not found in Rafai.... skipping\n",
      "Hotel not found in Albany.... skipping\n",
      "Hotel not found in Badajoz.... skipping\n",
      "Hotel not found in Maraa.... skipping\n"
     ]
    }
   ],
   "source": [
    "# Set Parameters to search for a hotel.\n",
    "params = {\"radius\":5000,\n",
    "         \"type\": \"lodging\",\n",
    "         \"key\": g_key,\n",
    "         \"location\": \"\"}\n",
    "\n",
    "# Iterate through the DataFrame. \n",
    "for index, row in hotel_df.iterrows():\n",
    "    \n",
    "    # Get the latitude and longtitude\n",
    "    lat = row[\"Lat\"]\n",
    "    lng = row[\"Lng\"]\n",
    "    city = row[\"City\"]\n",
    "    # add the latitude and longitude to location key for the params dict\n",
    "    params[\"location\"] = f\"{lat},{lng}\"\n",
    "    \n",
    "    # Use base url to search for hotels:\n",
    "    base_url = \"https://maps.googleapis.com/maps/api/place/nearbysearch/json\"\n",
    "    \n",
    "    # Make request and get the JSON data from the search.\n",
    "    hotels = requests.get(base_url, params = params).json()\n",
    "    try: \n",
    "        # Grab the first hotel from the results and store the name. \n",
    "        hotel_df.loc[index, \"Hotel Name\"] = hotels[\"results\"][0][\"name\"]\n",
    "    \n",
    "    except (IndexError):\n",
    "        print(f\"Hotel not found in {city}.... skipping\")\n",
    "        \n",
    "        \n",
    "    \n"
   ]
  },
  {
   "cell_type": "code",
   "execution_count": null,
   "metadata": {},
   "outputs": [],
   "source": [
    "hotel_df.head(10)\n",
    "\n"
   ]
  },
  {
   "cell_type": "code",
   "execution_count": null,
   "metadata": {},
   "outputs": [],
   "source": [
    "info_box_template = \"\"\"\n",
    "<dl>\n",
    "<dt>Hotel Name</dt><dd>{Hotel Name}</dd>\n",
    "<dt>City</dt><dd>{City}</dd>\n",
    "<dt>Country</dt><dd>{Country}</dd>\n",
    "<dt>Max Temp</dt><dd>{Max Temp} °F</dd>\n",
    "</dl>\n",
    "\"\"\""
   ]
  },
  {
   "cell_type": "code",
   "execution_count": null,
   "metadata": {},
   "outputs": [],
   "source": [
    "# Add a heatmap of temperature for the vacation spots.\n",
    "\n",
    "# Store the DataFrame Row.\n",
    "hotel_info = [info_box_template.format(**row) for index, row in hotel_df.iterrows()]\n",
    "\n",
    "locations = hotel_df[[\"Lat\", \"Lng\"]]\n",
    "max_temp = hotel_df[\"Max Temp\"]\n",
    "fig = gmaps.figure(center = (30.0,31.0), zoom_level = 1.25)\n",
    "heat_layer = (gmaps.heatmap_layer(locations, weights = max_temp, dissipating=False,\n",
    "                                 max_intensity=300, point_radius =4))\n",
    "marker_layer = gmaps.marker_layer(locations, info_box_content = hotel_info) \n",
    "fig.add_layer(heat_layer)\n",
    "fig.add_layer(marker_layer)\n",
    "\n",
    "fig"
   ]
  },
  {
   "cell_type": "code",
   "execution_count": null,
   "metadata": {},
   "outputs": [],
   "source": []
  }
 ],
 "metadata": {
  "kernelspec": {
   "display_name": "PythonData",
   "language": "python",
   "name": "pythondata"
  },
  "language_info": {
   "codemirror_mode": {
    "name": "ipython",
    "version": 3
   },
   "file_extension": ".py",
   "mimetype": "text/x-python",
   "name": "python",
   "nbconvert_exporter": "python",
   "pygments_lexer": "ipython3",
   "version": "3.7.7"
  }
 },
 "nbformat": 4,
 "nbformat_minor": 4
}
