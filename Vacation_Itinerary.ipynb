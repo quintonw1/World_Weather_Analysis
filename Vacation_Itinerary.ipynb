{
 "cells": [
  {
   "cell_type": "code",
   "execution_count": 1,
   "metadata": {},
   "outputs": [],
   "source": [
    "# Import dependicies \n",
    "import pandas as pd \n",
    "import gmaps \n",
    "import gmaps.datasets\n",
    "\n",
    "from config import g_key \n",
    "\n",
    "gmaps.configure(api_key = g_key)\n",
    "\n"
   ]
  },
  {
   "cell_type": "code",
   "execution_count": 2,
   "metadata": {},
   "outputs": [
    {
     "data": {
      "text/plain": [
       "City_ID                  int64\n",
       "City                    object\n",
       "Country                 object\n",
       "Max Temp               float64\n",
       "Current Description     object\n",
       "Lat                    float64\n",
       "Lng                    float64\n",
       "Hotel Name              object\n",
       "dtype: object"
      ]
     },
     "execution_count": 2,
     "metadata": {},
     "output_type": "execute_result"
    }
   ],
   "source": [
    "file_name = \"Data/WeatherPy_vacation.csv\"\n",
    "vacation_df = pd.read_csv(file_name)\n",
    "vacation_df.dtypes"
   ]
  },
  {
   "cell_type": "code",
   "execution_count": 3,
   "metadata": {},
   "outputs": [
    {
     "data": {
      "text/html": [
       "<div>\n",
       "<style scoped>\n",
       "    .dataframe tbody tr th:only-of-type {\n",
       "        vertical-align: middle;\n",
       "    }\n",
       "\n",
       "    .dataframe tbody tr th {\n",
       "        vertical-align: top;\n",
       "    }\n",
       "\n",
       "    .dataframe thead th {\n",
       "        text-align: right;\n",
       "    }\n",
       "</style>\n",
       "<table border=\"1\" class=\"dataframe\">\n",
       "  <thead>\n",
       "    <tr style=\"text-align: right;\">\n",
       "      <th></th>\n",
       "      <th>City_ID</th>\n",
       "      <th>City</th>\n",
       "      <th>Country</th>\n",
       "      <th>Max Temp</th>\n",
       "      <th>Current Description</th>\n",
       "      <th>Lat</th>\n",
       "      <th>Lng</th>\n",
       "      <th>Hotel Name</th>\n",
       "    </tr>\n",
       "  </thead>\n",
       "  <tbody>\n",
       "    <tr>\n",
       "      <th>0</th>\n",
       "      <td>1</td>\n",
       "      <td>Castro</td>\n",
       "      <td>BR</td>\n",
       "      <td>62.38</td>\n",
       "      <td>clear sky</td>\n",
       "      <td>-24.79</td>\n",
       "      <td>-50.01</td>\n",
       "      <td>CHACARA BAILLY</td>\n",
       "    </tr>\n",
       "    <tr>\n",
       "      <th>1</th>\n",
       "      <td>2</td>\n",
       "      <td>Butaritari</td>\n",
       "      <td>KI</td>\n",
       "      <td>78.96</td>\n",
       "      <td>light rain</td>\n",
       "      <td>3.07</td>\n",
       "      <td>172.79</td>\n",
       "      <td>Isles Sunset Lodge</td>\n",
       "    </tr>\n",
       "    <tr>\n",
       "      <th>2</th>\n",
       "      <td>3</td>\n",
       "      <td>Manado</td>\n",
       "      <td>ID</td>\n",
       "      <td>75.20</td>\n",
       "      <td>scattered clouds</td>\n",
       "      <td>1.49</td>\n",
       "      <td>124.85</td>\n",
       "      <td>Aryaduta Hotel</td>\n",
       "    </tr>\n",
       "    <tr>\n",
       "      <th>3</th>\n",
       "      <td>5</td>\n",
       "      <td>Jacqueville</td>\n",
       "      <td>CI</td>\n",
       "      <td>80.60</td>\n",
       "      <td>few clouds</td>\n",
       "      <td>5.21</td>\n",
       "      <td>-4.41</td>\n",
       "      <td>Hotel Le Martin Pecheur</td>\n",
       "    </tr>\n",
       "    <tr>\n",
       "      <th>4</th>\n",
       "      <td>6</td>\n",
       "      <td>Rikitea</td>\n",
       "      <td>PF</td>\n",
       "      <td>74.77</td>\n",
       "      <td>few clouds</td>\n",
       "      <td>-23.12</td>\n",
       "      <td>-134.97</td>\n",
       "      <td>Pension Maro'i</td>\n",
       "    </tr>\n",
       "  </tbody>\n",
       "</table>\n",
       "</div>"
      ],
      "text/plain": [
       "   City_ID         City Country  Max Temp Current Description    Lat     Lng  \\\n",
       "0        1       Castro      BR     62.38           clear sky -24.79  -50.01   \n",
       "1        2   Butaritari      KI     78.96          light rain   3.07  172.79   \n",
       "2        3       Manado      ID     75.20    scattered clouds   1.49  124.85   \n",
       "3        5  Jacqueville      CI     80.60          few clouds   5.21   -4.41   \n",
       "4        6      Rikitea      PF     74.77          few clouds -23.12 -134.97   \n",
       "\n",
       "                Hotel Name  \n",
       "0           CHACARA BAILLY  \n",
       "1       Isles Sunset Lodge  \n",
       "2           Aryaduta Hotel  \n",
       "3  Hotel Le Martin Pecheur  \n",
       "4           Pension Maro'i  "
      ]
     },
     "execution_count": 3,
     "metadata": {},
     "output_type": "execute_result"
    }
   ],
   "source": [
    "vacation_df.head()"
   ]
  },
  {
   "cell_type": "code",
   "execution_count": 23,
   "metadata": {},
   "outputs": [],
   "source": [
    "# CHoose 4 cities from Vacation_df from vacation city map\n",
    "\n",
    "city_1 = \"Laguna\"\n",
    "city_2 = \"San Jose\"\n",
    "city_3 = \"Salinas\"\n",
    "city_4 = \"Coalinga\"\n"
   ]
  },
  {
   "cell_type": "code",
   "execution_count": 33,
   "metadata": {},
   "outputs": [
    {
     "data": {
      "text/html": [
       "<div>\n",
       "<style scoped>\n",
       "    .dataframe tbody tr th:only-of-type {\n",
       "        vertical-align: middle;\n",
       "    }\n",
       "\n",
       "    .dataframe tbody tr th {\n",
       "        vertical-align: top;\n",
       "    }\n",
       "\n",
       "    .dataframe thead th {\n",
       "        text-align: right;\n",
       "    }\n",
       "</style>\n",
       "<table border=\"1\" class=\"dataframe\">\n",
       "  <thead>\n",
       "    <tr style=\"text-align: right;\">\n",
       "      <th></th>\n",
       "      <th>City_ID</th>\n",
       "      <th>City</th>\n",
       "      <th>Country</th>\n",
       "      <th>Max Temp</th>\n",
       "      <th>Current Description</th>\n",
       "      <th>Lat</th>\n",
       "      <th>Lng</th>\n",
       "      <th>Hotel Name</th>\n",
       "    </tr>\n",
       "  </thead>\n",
       "  <tbody>\n",
       "    <tr>\n",
       "      <th>77</th>\n",
       "      <td>132</td>\n",
       "      <td>Laguna</td>\n",
       "      <td>US</td>\n",
       "      <td>75.99</td>\n",
       "      <td>overcast clouds</td>\n",
       "      <td>38.42</td>\n",
       "      <td>-121.42</td>\n",
       "      <td>Holiday Inn Express &amp; Suites Elk Grove Central...</td>\n",
       "    </tr>\n",
       "  </tbody>\n",
       "</table>\n",
       "</div>"
      ],
      "text/plain": [
       "    City_ID    City Country  Max Temp Current Description    Lat     Lng  \\\n",
       "77      132  Laguna      US     75.99     overcast clouds  38.42 -121.42   \n",
       "\n",
       "                                           Hotel Name  \n",
       "77  Holiday Inn Express & Suites Elk Grove Central...  "
      ]
     },
     "execution_count": 33,
     "metadata": {},
     "output_type": "execute_result"
    }
   ],
   "source": [
    "# Populate 4 dataframes for each city\n",
    "city_1_df = vacation_df.loc[vacation_df[\"City\"] == city_1]\n",
    "city_2_df = vacation_df.loc[vacation_df[\"City\"] == city_2]\n",
    "city_3_df = vacation_df.loc[vacation_df[\"City\"] == city_3]\n",
    "city_4_df = vacation_df.loc[vacation_df[\"City\"] == city_4]\n",
    "\n",
    "city_1_df"
   ]
  },
  {
   "cell_type": "code",
   "execution_count": 34,
   "metadata": {},
   "outputs": [
    {
     "data": {
      "text/plain": [
       "(37.34, -121.89)"
      ]
     },
     "execution_count": 34,
     "metadata": {},
     "output_type": "execute_result"
    }
   ],
   "source": [
    "value = city_1_df[\"Lat\"] * 10\n",
    "city_2_coord = (float(city_2_df[\"Lat\"]), float(city_2_df[\"Lng\"]))\n",
    "city_2_coord"
   ]
  },
  {
   "cell_type": "code",
   "execution_count": 48,
   "metadata": {},
   "outputs": [
    {
     "data": {
      "application/vnd.jupyter.widget-view+json": {
       "model_id": "6225c4fb6bfe490299a24eb7dede599a",
       "version_major": 2,
       "version_minor": 0
      },
      "text/plain": [
       "Figure(layout=FigureLayout(height='420px'))"
      ]
     },
     "metadata": {},
     "output_type": "display_data"
    }
   ],
   "source": [
    "# Create figure\n",
    "fig = gmaps.figure()\n",
    "# List cities\n",
    "city_1_coord = (float(city_1_df[\"Lat\"]), float(city_1_df[\"Lng\"]))\n",
    "city_2_coord = (float(city_2_df[\"Lat\"]), float(city_2_df[\"Lng\"]))\n",
    "city_3_coord = (float(city_3_df[\"Lat\"]), float(city_3_df[\"Lng\"]))\n",
    "city_4_coord = (float(city_4_df[\"Lat\"]), float(city_4_df[\"Lng\"]))\n",
    "# Build layers \n",
    "trip = gmaps.directions_layer(city_1_coord, city_2_coord, \n",
    "                                waypoints = [city_4_coord, city_3_coord], travel_mode = \"DRIVING\")\n",
    "\n",
    "# Add layer to map\n",
    "fig.add_layer(trip)\n",
    "# Call map\n",
    "fig"
   ]
  },
  {
   "cell_type": "code",
   "execution_count": 40,
   "metadata": {},
   "outputs": [
    {
     "data": {
      "text/html": [
       "<div>\n",
       "<style scoped>\n",
       "    .dataframe tbody tr th:only-of-type {\n",
       "        vertical-align: middle;\n",
       "    }\n",
       "\n",
       "    .dataframe tbody tr th {\n",
       "        vertical-align: top;\n",
       "    }\n",
       "\n",
       "    .dataframe thead th {\n",
       "        text-align: right;\n",
       "    }\n",
       "</style>\n",
       "<table border=\"1\" class=\"dataframe\">\n",
       "  <thead>\n",
       "    <tr style=\"text-align: right;\">\n",
       "      <th></th>\n",
       "      <th>City_ID</th>\n",
       "      <th>City</th>\n",
       "      <th>Country</th>\n",
       "      <th>Max Temp</th>\n",
       "      <th>Current Description</th>\n",
       "      <th>Lat</th>\n",
       "      <th>Lng</th>\n",
       "      <th>Hotel Name</th>\n",
       "    </tr>\n",
       "  </thead>\n",
       "  <tbody>\n",
       "    <tr>\n",
       "      <th>77</th>\n",
       "      <td>132</td>\n",
       "      <td>Laguna</td>\n",
       "      <td>US</td>\n",
       "      <td>75.99</td>\n",
       "      <td>overcast clouds</td>\n",
       "      <td>38.42</td>\n",
       "      <td>-121.42</td>\n",
       "      <td>Holiday Inn Express &amp; Suites Elk Grove Central...</td>\n",
       "    </tr>\n",
       "    <tr>\n",
       "      <th>15</th>\n",
       "      <td>29</td>\n",
       "      <td>San Jose</td>\n",
       "      <td>US</td>\n",
       "      <td>71.60</td>\n",
       "      <td>light rain</td>\n",
       "      <td>37.34</td>\n",
       "      <td>-121.89</td>\n",
       "      <td>The Westin San Jose</td>\n",
       "    </tr>\n",
       "    <tr>\n",
       "      <th>84</th>\n",
       "      <td>148</td>\n",
       "      <td>Salinas</td>\n",
       "      <td>US</td>\n",
       "      <td>69.01</td>\n",
       "      <td>light rain</td>\n",
       "      <td>36.68</td>\n",
       "      <td>-121.66</td>\n",
       "      <td>Good Nite Inn Salinas Monterey</td>\n",
       "    </tr>\n",
       "    <tr>\n",
       "      <th>251</th>\n",
       "      <td>405</td>\n",
       "      <td>Coalinga</td>\n",
       "      <td>US</td>\n",
       "      <td>77.00</td>\n",
       "      <td>broken clouds</td>\n",
       "      <td>36.14</td>\n",
       "      <td>-120.36</td>\n",
       "      <td>Royal Lodge Motel</td>\n",
       "    </tr>\n",
       "  </tbody>\n",
       "</table>\n",
       "</div>"
      ],
      "text/plain": [
       "     City_ID      City Country  Max Temp Current Description    Lat     Lng  \\\n",
       "77       132    Laguna      US     75.99     overcast clouds  38.42 -121.42   \n",
       "15        29  San Jose      US     71.60          light rain  37.34 -121.89   \n",
       "84       148   Salinas      US     69.01          light rain  36.68 -121.66   \n",
       "251      405  Coalinga      US     77.00       broken clouds  36.14 -120.36   \n",
       "\n",
       "                                            Hotel Name  \n",
       "77   Holiday Inn Express & Suites Elk Grove Central...  \n",
       "15                                 The Westin San Jose  \n",
       "84                      Good Nite Inn Salinas Monterey  \n",
       "251                                  Royal Lodge Motel  "
      ]
     },
     "execution_count": 40,
     "metadata": {},
     "output_type": "execute_result"
    }
   ],
   "source": [
    "# Create new dataframe containing the 4 separate dataframes \n",
    "new_city_df = [city_1_df, city_2_df, city_3_df, city_4_df]\n",
    "new_city_df = pd.concat(new_city_df)\n",
    "new_city_df"
   ]
  },
  {
   "cell_type": "code",
   "execution_count": 46,
   "metadata": {},
   "outputs": [],
   "source": [
    "info_box_template = \"\"\"\n",
    "<dl>\n",
    "<dt>Hotel Name</dt><dd>{Hotel Name}</dd>\n",
    "<dt>City</dt><dd>{City}</dd>\n",
    "<dt>Country</dt><dd>{Country}</dd>\n",
    "<dt>Current Weather</dt><dd>{Current Description} and {Max Temp} °F</dd>\n",
    "</dl>\n",
    "\"\"\""
   ]
  },
  {
   "cell_type": "code",
   "execution_count": 47,
   "metadata": {},
   "outputs": [
    {
     "data": {
      "application/vnd.jupyter.widget-view+json": {
       "model_id": "99dba4baf1514c018c40102031f1d651",
       "version_major": 2,
       "version_minor": 0
      },
      "text/plain": [
       "Figure(layout=FigureLayout(height='420px'))"
      ]
     },
     "metadata": {},
     "output_type": "display_data"
    }
   ],
   "source": [
    "# Create figure\n",
    "fig = gmaps.figure()\n",
    "# List cities\n",
    "locations  = new_city_df[[\"Lat\", \"Lng\"]]\n",
    "# Build layers \n",
    "hotel_info = [info_box_template.format(**row) for index, row in new_city_df.iterrows()]\n",
    "marker_layers = gmaps.marker_layer(locations, info_box_content = hotel_info)\n",
    "# Add layer to map\n",
    "fig.add_layer(marker_layers)\n",
    "# Call map\n",
    "fig"
   ]
  },
  {
   "cell_type": "code",
   "execution_count": null,
   "metadata": {},
   "outputs": [],
   "source": []
  }
 ],
 "metadata": {
  "kernelspec": {
   "display_name": "PythonData",
   "language": "python",
   "name": "pythondata"
  },
  "language_info": {
   "codemirror_mode": {
    "name": "ipython",
    "version": 3
   },
   "file_extension": ".py",
   "mimetype": "text/x-python",
   "name": "python",
   "nbconvert_exporter": "python",
   "pygments_lexer": "ipython3",
   "version": "3.7.7"
  }
 },
 "nbformat": 4,
 "nbformat_minor": 4
}
